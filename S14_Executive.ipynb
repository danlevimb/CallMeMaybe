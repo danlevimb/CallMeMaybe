{
 "cells": [
  {
   "cell_type": "markdown",
   "id": "ea7141e4",
   "metadata": {},
   "source": [
    "# CallMeMaybe: Identificación de operadores ineficaces\n",
    "#### **Autor:** *I.S.C. Dan Levi Menchaca* > *danlevimb@gmail.com*\n",
    "30/09/2025"
   ]
  },
  {
   "cell_type": "markdown",
   "id": "b40db229",
   "metadata": {},
   "source": [
    "## Sin tanto rollo:\n",
    "- **Problema:** Necesitamos identificar a los **operadores menos eficaces** y conocer el comportamiento de los tiempos de espera de las llamadas.\n",
    "- **¿Qué hicimos?:** EDA, métricas por **día–operador**, reglas por **cliente** (percentiles), pruebas estadísticas (Mann-Whitney, Kruskal, Spearman) y un **dashboard** en Tableau.\n",
    "- **¿Qué sigue?:** Ajustar procedimientos de supervision / coaching a operadores identificados, ajustes de enrutamiento / turnos y adopción del dashboard con alertas."
   ]
  },
  {
   "cell_type": "markdown",
   "id": "d0e02f02",
   "metadata": {},
   "source": [
    "## 1. Datos y supuestos.\n",
    "- Fuentes: `telecom_dataset_us.csv`, `telecom_clients_us.csv`.\n",
    "- Unión: `user_id`. Grano: **día–operador**.\n",
    "- Definiciones: `wait_time = total_call_duration - call_duration` (>= 0), entrante asignada = contestada + perdida **post**.\n",
    "- Ventana de análisis: últimas **4 semanas** (período estadísticamente estable)."
   ]
  },
  {
   "cell_type": "markdown",
   "id": "0984aa54",
   "metadata": {},
   "source": [
    "## 2. Construcción de métricas.\n",
    "Resumen de cómo se generan las métricas diarias por operador (entrantes, perdidas post, espera, OUT) y su agregación por cliente/operador."
   ]
  },
  {
   "cell_type": "markdown",
   "id": "305f6713",
   "metadata": {},
   "source": [
    "## 3. Análisis Exploratorio de Datos (EDA).\n",
    "Incluye histogramas de duración (P50/P80), tops de `missed_rate_post` y dispersión `missed` vs `avg_wait`."
   ]
  },
  {
   "cell_type": "markdown",
   "id": "9c3c45a3",
   "metadata": {},
   "source": [
    "## 4. Reglas para operadores ineficaces.\n",
    "Se considera y marca **ineficaz** a los operadores que, con volumen suficiente, cumplen:\n",
    "- `missed_rate_post` ≥ P80 **y** `avg_wait_in_ans` ≥ P80; **o**\n",
    "- `missed_rate_post` ≥ P80 **y** OUT bajo (≤ P20) cuando `expected_outbound`.\n",
    "Umbrales por **cliente** para ser justos con el contexto."
   ]
  },
  {
   "cell_type": "code",
   "execution_count": 99,
   "id": "d24560d3",
   "metadata": {},
   "outputs": [],
   "source": [
    "# Importar librerías y carga de archivos\n",
    "import pandas as pd\n",
    "import numpy as np\n",
    "import matplotlib.pyplot as plt\n",
    "import scipy.stats as st\n",
    "from matplotlib.ticker import PercentFormatter\n",
    "\n",
    "# Leer datos\n",
    "# calls_path = 'C:/Git/vehicles_env/datasets/telecom_dataset_us.csv'\n",
    "# clients_path = 'C:/Git/vehicles_env/datasets/telecom_clients_us.csv'\n",
    "\n",
    "calls_path = 'telecom_dataset_us.csv'\n",
    "clients_path = 'telecom_clients_us.csv'\n",
    "\n",
    "calls = pd.read_csv(calls_path, parse_dates=['date']) \n",
    "clients = pd.read_csv(clients_path, parse_dates=['date_start'])"
   ]
  },
  {
   "cell_type": "code",
   "execution_count": 100,
   "id": "800ff7ca",
   "metadata": {},
   "outputs": [],
   "source": [
    "# Normalizar tipos y valores\n",
    "calls['direction'] = calls['direction'].str.strip().str.lower()\n",
    "\n",
    "# Poner las columas al tipo de dato correspondiente\n",
    "calls['internal'] = calls['internal'].astype(bool)\n",
    "calls['is_missed_call'] = calls['is_missed_call'].astype(bool)        \n",
    "calls['operator_id'] = pd.to_numeric(calls['operator_id'], errors='coerce')"
   ]
  },
  {
   "cell_type": "code",
   "execution_count": 101,
   "id": "a2b818f1",
   "metadata": {},
   "outputs": [
    {
     "name": "stdout",
     "output_type": "stream",
     "text": [
      "Ventana de tiempo para análisis: Del  2019-11-01 hasta el 2019-11-28 00:00:00+03:00\n"
     ]
    }
   ],
   "source": [
    "# Integrar columnas derivadas\n",
    "calls['wait_time'] = calls['total_call_duration'] - calls['call_duration']\n",
    "calls['has_operator'] = calls['operator_id'].notna()\n",
    "calls['is_inbound']   = calls['direction'].eq('in')\n",
    "calls['is_outbound']  = calls['direction'].eq('out')\n",
    "\n",
    "# Distinguir si las llamadas perdidas fueron antes o despues de asignarles operador\n",
    "calls['miss_stage'] = np.where(\n",
    "    calls['is_inbound'] & calls['is_missed_call'] & ~calls['has_operator'], 'pre', # Si la llamada es interna, perdida y NO tiene operador es PRE\n",
    "    np.where(calls['is_inbound'] & calls['is_missed_call'] & calls['has_operator'], 'post', None)) # Si la llamada es externa, perdida y SI tiene operador es POST\n",
    "\n",
    "# Se define una ventana de tiempo de análisis de 28 días. (Customizable al set completo de datos)\n",
    "window_start = calls['date'].max() - pd.Timedelta(days=27) \n",
    "calls_win = calls[(calls['date'] >= window_start) & (calls['date'] <= calls['date'].max())].copy()\n",
    "print('Ventana de tiempo para análisis: Del ', window_start.date(), 'hasta el', calls['date'].max())"
   ]
  },
  {
   "cell_type": "code",
   "execution_count": 102,
   "id": "299f44fb",
   "metadata": {},
   "outputs": [],
   "source": [
    "# Filtros auxiliares\n",
    "in_ans = (calls_win[\"is_inbound\"] & ~calls_win[\"is_missed_call\"] & calls_win[\"has_operator\"])\n",
    "in_miss_post = (calls_win[\"is_inbound\"] & calls_win[\"is_missed_call\"] & calls_win[\"has_operator\"])\n",
    "in_miss_pre  = (calls_win[\"is_inbound\"] & calls_win[\"is_missed_call\"] & ~calls_win[\"has_operator\"])\n",
    "out_ext = (calls_win[\"is_outbound\"] & (calls_win[\"internal\"] == False))  # salientes externas\n",
    "\n",
    "# Columnas derivadas (0 donde no aplica)\n",
    "calls_win[\"in_ans_calls\"]            = np.where(in_ans,       calls_win[\"calls_count\"], 0)\n",
    "calls_win[\"in_ans_wait_sum\"]         = np.where(in_ans,       calls_win[\"wait_time\"], 0.0)\n",
    "calls_win[\"in_miss_post_calls\"]      = np.where(in_miss_post, calls_win[\"calls_count\"], 0)\n",
    "calls_win[\"in_miss_post_wait_sum\"]   = np.where(in_miss_post, calls_win[\"total_call_duration\"], 0.0)\n",
    "calls_win[\"in_miss_pre_calls\"]       = np.where(in_miss_pre,  calls_win[\"calls_count\"], 0)\n",
    "calls_win[\"in_miss_pre_wait_sum\"]    = np.where(in_miss_pre,  calls_win[\"total_call_duration\"], 0.0)\n",
    "calls_win[\"out_ext_calls\"]           = np.where(out_ext,      calls_win[\"calls_count\"], 0)\n",
    "calls_win[\"any_activity\"]            = (calls_win[\"calls_count\"] > 0).astype(int)\n",
    "\n",
    "grp_keys = [\"user_id\",\"operator_id\",\"date\"]\n",
    "\n",
    "daily = (\n",
    "    calls_win.groupby(grp_keys, as_index=False)\n",
    "      .agg(\n",
    "          in_ans_calls=(\"in_ans_calls\",\"sum\"),\n",
    "          in_ans_wait_sum=(\"in_ans_wait_sum\",\"sum\"),\n",
    "          in_miss_post_calls=(\"in_miss_post_calls\",\"sum\"),\n",
    "          in_miss_post_wait_sum=(\"in_miss_post_wait_sum\",\"sum\"),\n",
    "          in_miss_pre_calls=(\"in_miss_pre_calls\",\"sum\"),\n",
    "          in_miss_pre_wait_sum=(\"in_miss_pre_wait_sum\",\"sum\"),\n",
    "          out_ext_calls=(\"out_ext_calls\",\"sum\"),\n",
    "          any_activity=(\"any_activity\",\"max\")  # si hubo al menos algo ese día\n",
    "      ))\n",
    "\n",
    "# Derivados diarios\n",
    "daily[\"in_assigned_total\"] = daily[\"in_ans_calls\"] + daily[\"in_miss_post_calls\"]\n",
    "daily[\"missed_rate_post_day\"] = np.where(\n",
    "    daily[\"in_assigned_total\"] > 0,\n",
    "    daily[\"in_miss_post_calls\"] / daily[\"in_assigned_total\"],\n",
    "    np.nan)\n",
    "\n",
    "daily[\"avg_wait_in_ans_day\"] = np.where(\n",
    "    daily[\"in_ans_calls\"] > 0,\n",
    "    daily[\"in_ans_wait_sum\"] / daily[\"in_ans_calls\"],\n",
    "    np.nan)"
   ]
  },
  {
   "cell_type": "code",
   "execution_count": 103,
   "id": "8bfae8af",
   "metadata": {},
   "outputs": [],
   "source": [
    "# Cálculo de métricas DIARIAS por operador \n",
    "\n",
    "# Determinar los días en que hubo actividad de los operadores\n",
    "op_days = (daily.groupby([\"user_id\",\"operator_id\"], as_index=False).agg(active_days=(\"any_activity\", \"sum\")))\n",
    "\n",
    "# Agrupar métricas\n",
    "op_agg = (\n",
    "    daily.groupby([\"user_id\",\"operator_id\"], as_index=False)\n",
    "         .agg(\n",
    "             in_ans_calls=(\"in_ans_calls\",\"sum\"), # Total de entrantes contestadas por ese operador \n",
    "             in_miss_post_calls=(\"in_miss_post_calls\",\"sum\"), # Total de entrantes perdidas post-asignación\n",
    "             in_ans_wait_sum=(\"in_ans_wait_sum\",\"sum\"), # Suma del tiempo de espera de las contestadas asignadas a ese operador.\n",
    "             in_miss_post_wait_sum=(\"in_miss_post_wait_sum\",\"sum\"), # Suma de tiempo de espera en perdidas post-asignación\n",
    "             out_ext_calls=(\"out_ext_calls\",\"sum\"), # Cantidad total de llamadas salientes\n",
    "             avg_wait_in_ans=(\"avg_wait_in_ans_day\",\"mean\"), # Tiempo promedio que espera en llamadas entrantes contestadas\n",
    "             missed_rate_post=(\"missed_rate_post_day\",\"mean\") # Tasa de llamadas perdidas post-asignación (provisional)\n",
    "         ).merge(op_days, on=[\"user_id\",\"operator_id\"], how=\"left\")) # Añade el # de días activos al resumen (provisional)\n",
    "\n",
    "# Total de llamadas entrantes asignadas (contestadas y (perdidas-asignadas))\n",
    "op_agg[\"in_assigned_total\"] = op_agg[\"in_ans_calls\"] + op_agg[\"in_miss_post_calls\"]\n",
    "\n",
    "# Calcular nuevamente el tiempo promedio de espera de llamadas entrantes contestadas\n",
    "op_agg[\"avg_wait_in_ans\"] = np.where(\n",
    "    op_agg[\"in_ans_calls\"] > 0,\n",
    "    op_agg[\"in_ans_wait_sum\"] / op_agg[\"in_ans_calls\"],\n",
    "    np.nan)\n",
    "\n",
    "# Calcular nuevamente la tasa de llamadas perdidas después de la asignación. (Ya con los datos completos)\n",
    "op_agg[\"missed_rate_post\"] = np.where(\n",
    "    op_agg[\"in_assigned_total\"] > 0,\n",
    "    op_agg[\"in_miss_post_calls\"] / op_agg[\"in_assigned_total\"],\n",
    "    np.nan)\n",
    "\n",
    "# Marcar los días en los que el operador tuvo actividad (llamadas salientes)\n",
    "out_days = (daily.assign(has_out = daily[\"out_ext_calls\"] > 0)\n",
    "         .groupby([\"user_id\",\"operator_id\"], as_index=False)\n",
    "         .agg(out_days=(\"has_out\",\"sum\"))) \n",
    "\n",
    "# Unir los resultados agrupados con los diarios \n",
    "op_agg = op_agg.merge(out_days, on=[\"user_id\",\"operator_id\"], how=\"left\")\n",
    "op_agg[\"out_share_days\"] = np.where(op_agg[\"active_days\"]>0, op_agg[\"out_days\"]/op_agg[\"active_days\"], np.nan) # Proporción de días activos con llamadas salientes\n",
    "op_agg[\"out_avg_daily\"]  = np.where(op_agg[\"active_days\"]>0, op_agg[\"out_ext_calls\"]/op_agg[\"active_days\"], np.nan) # Promedio diario de llamadas salientes.\n",
    "\n",
    "# Mediana diaria de OUT sobre días activos: une daily OUT con días activos\n",
    "daily_out = daily[[\"user_id\",\"operator_id\",\"date\",\"out_ext_calls\",\"any_activity\"]].copy()\n",
    "\n",
    "daily_out[\"any_activity\"] = daily_out[\"any_activity\"].astype(bool)\n",
    "\n",
    "# Mediana diaria de OUT sobre días activos: une daily OUT con días activos\n",
    "daily_out = daily[[\"user_id\",\"operator_id\",\"date\",\"out_ext_calls\",\"any_activity\"]].copy()\n",
    "\n",
    "daily_out[\"any_activity\"] = daily_out[\"any_activity\"].astype(bool)\n",
    "\n",
    "# Si hubo actividad pero 'out_ext_calls' es nan, se considera 0 para ese día\n",
    "daily_out.loc[daily_out[\"any_activity\"] & daily_out[\"out_ext_calls\"].isna(), \"out_ext_calls\"] = 0\n",
    "\n",
    "# Calcular el desempeño diario de cada operador utilizando la mediana, \n",
    "# ya que puede haber días con picos por campañas o comportamientos atípicos.\n",
    "op_median_out = (daily_out[daily_out[\"any_activity\"]]\n",
    "                 .groupby([\"user_id\",\"operator_id\"], as_index=False)\n",
    "                 .agg(out_median_daily=(\"out_ext_calls\",\"median\")))\n",
    "\n",
    "# Agregar los datos a las métricas por operdor.\n",
    "op_agg = op_agg.merge(op_median_out, on=[\"user_id\",\"operator_id\"], how=\"left\")"
   ]
  },
  {
   "cell_type": "code",
   "execution_count": 104,
   "id": "1da0fb4f",
   "metadata": {},
   "outputs": [],
   "source": [
    "# Considerar registros válidos aquellos que tengan actividad saliente.\n",
    "op_agg[\"expected_outbound\"] = (op_agg[\"out_share_days\"] >= 0.30) | (op_agg[\"out_avg_daily\"] >= 3)\n",
    "\n",
    "def add_client_percentile_flags(df):\n",
    "    # Función para el cálculo de percentiles por cliente para normalizar el contexto\n",
    "    res = []\n",
    "    for uid, g in df.groupby(\"user_id\", dropna=False):\n",
    "        # P80 de missed_rate y wait; P20 de out_median_daily\n",
    "        p80_miss = np.nanpercentile(g[\"missed_rate_post\"], 80) if g[\"missed_rate_post\"].notna().any() else np.nan # Tasa de pérdidas post-asignación\n",
    "        p80_wait = np.nanpercentile(g[\"avg_wait_in_ans\"], 80) if g[\"avg_wait_in_ans\"].notna().any() else np.nan # Espera promedio de entrantes contestadas\n",
    "        p20_out  = np.nanpercentile(g[\"out_median_daily\"], 20) if g[\"out_median_daily\"].notna().any() else np.nan # mediana diaria de llamadas salientes\n",
    "\n",
    "        gg = g.copy()\n",
    "        # El operador está en el peor 20% de perdidas post-asignación de su cliente\n",
    "        gg[\"flag_miss_high\"] = gg[\"missed_rate_post\"] >= p80_miss if pd.notna(p80_miss) else False\n",
    "        \n",
    "        # El operador está en el peor 20% de espera post-asignación de su cliente\n",
    "        gg[\"flag_wait_high\"] = gg[\"avg_wait_in_ans\"] >= p80_wait if pd.notna(p80_wait) else False\n",
    "        \n",
    "        # Solo aplica si expected_outbound es TRUE\n",
    "        # Se compara su mediana diaria de OUT contrael P20 de su cliente. \n",
    "        gg[\"flag_out_low\"]   = np.where(gg[\"expected_outbound\"], gg[\"out_median_daily\"] <= p20_out, False)\n",
    "        res.append(gg)\n",
    "    return pd.concat(res, ignore_index=True)\n",
    "\n",
    "# Llamar la función\n",
    "op_flags = add_client_percentile_flags(op_agg)\n",
    "\n",
    "# Etiquetar registros con suficiente robustez para ser considerados\n",
    "op_flags[\"enough_volume\"] = (\n",
    "    (op_flags[\"in_assigned_total\"] >= 20) &   # entrantes asignadas (respondidas + perdidas post) suficientes\n",
    "    (op_flags[\"in_ans_calls\"] >= 10) &        # suficientes contestadas para un promedio de espera estable\n",
    "    (op_flags[\"active_days\"] >= 7))            # al menos una semana de días observados\n",
    "\n",
    "# Marcar al operador como ineficaz si:\n",
    "# 1.- Cumple con la condición anterior\n",
    "# 2.- Llamadas perdidas alto y tiempo de espera alto\n",
    "# 3.- Llamadas perdidas alto y llamadas salientes bajo\n",
    "op_flags[\"ineffective\"] = op_flags[\"enough_volume\"] & (\n",
    "    (op_flags[\"flag_miss_high\"] & op_flags[\"flag_wait_high\"]) |\n",
    "    (op_flags[\"flag_miss_high\"] & op_flags[\"flag_out_low\"]))\n",
    "\n",
    "# Definir columnas para el reporte.\n",
    "cols_show = [\n",
    "    \"user_id\",\"operator_id\",\"active_days\",\"in_assigned_total\",\"in_ans_calls\",\"in_miss_post_calls\",\n",
    "    \"missed_rate_post\",\"avg_wait_in_ans\",\n",
    "    \"out_ext_calls\",\"out_median_daily\",\"out_share_days\",\"out_avg_daily\",\"expected_outbound\",\n",
    "    \"flag_miss_high\",\"flag_wait_high\",\"flag_out_low\",\"enough_volume\",\"ineffective\"]\n",
    "\n",
    "ineff_table = op_flags[cols_show].sort_values([\"user_id\",\"ineffective\",\"missed_rate_post\",\"avg_wait_in_ans\"], ascending=[True, False, False, False])"
   ]
  },
  {
   "cell_type": "markdown",
   "id": "b49c4b41",
   "metadata": {},
   "source": [
    "### 4.1 Métricas individuales - Operadores ineficaces (preview)\n",
    "Resultados en: *s14_operadores_ineficaces_metrics.csv*"
   ]
  },
  {
   "cell_type": "code",
   "execution_count": 105,
   "id": "a78a8ea1",
   "metadata": {},
   "outputs": [
    {
     "data": {
      "text/html": [
       "<div>\n",
       "<style scoped>\n",
       "    .dataframe tbody tr th:only-of-type {\n",
       "        vertical-align: middle;\n",
       "    }\n",
       "\n",
       "    .dataframe tbody tr th {\n",
       "        vertical-align: top;\n",
       "    }\n",
       "\n",
       "    .dataframe thead th {\n",
       "        text-align: right;\n",
       "    }\n",
       "</style>\n",
       "<table border=\"1\" class=\"dataframe\">\n",
       "  <thead>\n",
       "    <tr style=\"text-align: right;\">\n",
       "      <th></th>\n",
       "      <th>user_id</th>\n",
       "      <th>operator_id</th>\n",
       "      <th>active_days</th>\n",
       "      <th>in_assigned_total</th>\n",
       "      <th>in_ans_calls</th>\n",
       "      <th>in_miss_post_calls</th>\n",
       "      <th>missed_rate_post</th>\n",
       "      <th>avg_wait_in_ans</th>\n",
       "      <th>out_ext_calls</th>\n",
       "      <th>out_median_daily</th>\n",
       "      <th>out_share_days</th>\n",
       "      <th>out_avg_daily</th>\n",
       "      <th>expected_outbound</th>\n",
       "      <th>flag_miss_high</th>\n",
       "      <th>flag_wait_high</th>\n",
       "      <th>flag_out_low</th>\n",
       "      <th>enough_volume</th>\n",
       "      <th>ineffective</th>\n",
       "    </tr>\n",
       "  </thead>\n",
       "  <tbody>\n",
       "    <tr>\n",
       "      <th>0</th>\n",
       "      <td>166377</td>\n",
       "      <td>880022.0</td>\n",
       "      <td>12</td>\n",
       "      <td>7</td>\n",
       "      <td>7</td>\n",
       "      <td>0</td>\n",
       "      <td>0.0</td>\n",
       "      <td>13.428571</td>\n",
       "      <td>36</td>\n",
       "      <td>0.5</td>\n",
       "      <td>0.5</td>\n",
       "      <td>3.000000</td>\n",
       "      <td>True</td>\n",
       "      <td>True</td>\n",
       "      <td>True</td>\n",
       "      <td>True</td>\n",
       "      <td>False</td>\n",
       "      <td>False</td>\n",
       "    </tr>\n",
       "    <tr>\n",
       "      <th>1</th>\n",
       "      <td>166377</td>\n",
       "      <td>880026.0</td>\n",
       "      <td>19</td>\n",
       "      <td>5</td>\n",
       "      <td>5</td>\n",
       "      <td>0</td>\n",
       "      <td>0.0</td>\n",
       "      <td>8.400000</td>\n",
       "      <td>680</td>\n",
       "      <td>38.0</td>\n",
       "      <td>1.0</td>\n",
       "      <td>35.789474</td>\n",
       "      <td>True</td>\n",
       "      <td>True</td>\n",
       "      <td>False</td>\n",
       "      <td>False</td>\n",
       "      <td>False</td>\n",
       "      <td>False</td>\n",
       "    </tr>\n",
       "    <tr>\n",
       "      <th>2</th>\n",
       "      <td>166377</td>\n",
       "      <td>880028.0</td>\n",
       "      <td>19</td>\n",
       "      <td>29</td>\n",
       "      <td>29</td>\n",
       "      <td>0</td>\n",
       "      <td>0.0</td>\n",
       "      <td>5.931034</td>\n",
       "      <td>660</td>\n",
       "      <td>29.0</td>\n",
       "      <td>1.0</td>\n",
       "      <td>34.736842</td>\n",
       "      <td>True</td>\n",
       "      <td>True</td>\n",
       "      <td>False</td>\n",
       "      <td>False</td>\n",
       "      <td>True</td>\n",
       "      <td>False</td>\n",
       "    </tr>\n",
       "    <tr>\n",
       "      <th>3</th>\n",
       "      <td>166377</td>\n",
       "      <td>881278.0</td>\n",
       "      <td>2</td>\n",
       "      <td>0</td>\n",
       "      <td>0</td>\n",
       "      <td>0</td>\n",
       "      <td>NaN</td>\n",
       "      <td>NaN</td>\n",
       "      <td>5</td>\n",
       "      <td>2.5</td>\n",
       "      <td>1.0</td>\n",
       "      <td>2.500000</td>\n",
       "      <td>True</td>\n",
       "      <td>False</td>\n",
       "      <td>False</td>\n",
       "      <td>False</td>\n",
       "      <td>False</td>\n",
       "      <td>False</td>\n",
       "    </tr>\n",
       "    <tr>\n",
       "      <th>4</th>\n",
       "      <td>166391</td>\n",
       "      <td>882476.0</td>\n",
       "      <td>1</td>\n",
       "      <td>1</td>\n",
       "      <td>1</td>\n",
       "      <td>0</td>\n",
       "      <td>0.0</td>\n",
       "      <td>64.000000</td>\n",
       "      <td>0</td>\n",
       "      <td>0.0</td>\n",
       "      <td>0.0</td>\n",
       "      <td>0.000000</td>\n",
       "      <td>False</td>\n",
       "      <td>True</td>\n",
       "      <td>True</td>\n",
       "      <td>False</td>\n",
       "      <td>False</td>\n",
       "      <td>False</td>\n",
       "    </tr>\n",
       "  </tbody>\n",
       "</table>\n",
       "</div>"
      ],
      "text/plain": [
       "   user_id  operator_id  active_days  in_assigned_total  in_ans_calls  \\\n",
       "0   166377     880022.0           12                  7             7   \n",
       "1   166377     880026.0           19                  5             5   \n",
       "2   166377     880028.0           19                 29            29   \n",
       "3   166377     881278.0            2                  0             0   \n",
       "4   166391     882476.0            1                  1             1   \n",
       "\n",
       "   in_miss_post_calls  missed_rate_post  avg_wait_in_ans  out_ext_calls  \\\n",
       "0                   0               0.0        13.428571             36   \n",
       "1                   0               0.0         8.400000            680   \n",
       "2                   0               0.0         5.931034            660   \n",
       "3                   0               NaN              NaN              5   \n",
       "4                   0               0.0        64.000000              0   \n",
       "\n",
       "   out_median_daily  out_share_days  out_avg_daily  expected_outbound  \\\n",
       "0               0.5             0.5       3.000000               True   \n",
       "1              38.0             1.0      35.789474               True   \n",
       "2              29.0             1.0      34.736842               True   \n",
       "3               2.5             1.0       2.500000               True   \n",
       "4               0.0             0.0       0.000000              False   \n",
       "\n",
       "   flag_miss_high  flag_wait_high  flag_out_low  enough_volume  ineffective  \n",
       "0            True            True          True          False        False  \n",
       "1            True           False         False          False        False  \n",
       "2            True           False         False           True        False  \n",
       "3           False           False         False          False        False  \n",
       "4            True            True         False          False        False  "
      ]
     },
     "execution_count": 105,
     "metadata": {},
     "output_type": "execute_result"
    }
   ],
   "source": [
    "ineff_table.head()"
   ]
  },
  {
   "cell_type": "markdown",
   "id": "89e9540e",
   "metadata": {},
   "source": [
    "### 4.2 Métricas de equipo (preview)\n",
    "\n",
    " El objetivo es medir que ocurre antes de que una llamada entrante sea asignada.\n",
    " Esto es comportamiento general del call center.\n",
    " Mide:\n",
    "   - Carga de la lista de espera: ¿Cuántas llamadas se van antes de ser asignadas?\n",
    "   - Experiencia del cliente en lista de espera: ¿Cuánto esperan en promedio quienes abandonan?\n",
    "\n",
    "Resultados en: *s14_queue_context_por_cliente.csv*"
   ]
  },
  {
   "cell_type": "code",
   "execution_count": 106,
   "id": "c6821fdc",
   "metadata": {},
   "outputs": [
    {
     "name": "stdout",
     "output_type": "stream",
     "text": [
      "   user_id  pre_missed_calls  pre_avg_wait\n",
      "0   166377                17     14.250000\n",
      "1   166391                 2      4.000000\n",
      "2   166392                31      7.022222\n",
      "3   166405              1392     15.611976\n",
      "4   166406                21     26.983333\n"
     ]
    }
   ],
   "source": [
    "# Agrupar llamadas por cliente y día\n",
    "queue_daily = (\n",
    "    calls_win[calls_win[\"miss_stage\"]==\"pre\"] # Filtra las llamadas que no fueron asignadas a un operador.\n",
    "    .groupby([\"user_id\",\"date\"], as_index=False)\n",
    "    .agg(\n",
    "        pre_missed_calls=(\"calls_count\",\"sum\"),\n",
    "        pre_wait_sum=(\"total_call_duration\",\"sum\")))\n",
    "\n",
    "# Tiempo de espera promedio de un cliente antes de ser asignado a un operador antes de abandonar.\n",
    "queue_daily[\"pre_avg_wait\"] = np.where(queue_daily[\"pre_missed_calls\"]>0, queue_daily[\"pre_wait_sum\"]/queue_daily[\"pre_missed_calls\"], np.nan)\n",
    "\n",
    "# Resumen a nivel cliente\n",
    "queue_summary = queue_daily.groupby(\"user_id\", as_index=False).agg(\n",
    "    pre_missed_calls=(\"pre_missed_calls\",\"sum\"),\n",
    "    pre_avg_wait=(\"pre_avg_wait\",\"mean\"))\n",
    "\n",
    "print(queue_summary.head())"
   ]
  },
  {
   "cell_type": "markdown",
   "id": "c75f8a75",
   "metadata": {},
   "source": [
    "# 5. Visuales."
   ]
  },
  {
   "cell_type": "code",
   "execution_count": 107,
   "id": "feb3a460",
   "metadata": {},
   "outputs": [
    {
     "data": {
      "image/png": "[encoded data removed]",
      "text/plain": [
       "<Figure size 640x480 with 1 Axes>"
      ]
     },
     "metadata": {},
     "output_type": "display_data"
    }
   ],
   "source": [
    "# G1.- Tasa de llamadas perdidas (Post-asignación) por operador\n",
    "x = op_flags[\"missed_rate_post\"].dropna()\n",
    "\n",
    "fig, ax = plt.subplots()\n",
    "n, bins, patches = ax.hist(x, bins=30)\n",
    "\n",
    "ax.margins(y=0.20)\n",
    "plt.title(\"Tasa de llamadas perdidas (Post-asignación) por operador\")\n",
    "plt.xlabel(\"Tasa\")\n",
    "plt.ylabel(\"Cantidad de operadores\")\n",
    "\n",
    "total = n.sum()\n",
    "for rect, count in zip(patches, n):\n",
    "    if count > 0:\n",
    "        pct = 100*count/total\n",
    "        ax.annotate(f\"{pct:.1f}%\",\n",
    "                    (rect.get_x()+rect.get_width()/2, rect.get_height()),\n",
    "                    xytext=(0, 3), textcoords=\"offset points\",\n",
    "                    ha=\"center\", va=\"bottom\", rotation=90)\n",
    "plt.show()"
   ]
  },
  {
   "cell_type": "code",
   "execution_count": 108,
   "id": "cd34be9d",
   "metadata": {},
   "outputs": [
    {
     "data": {
      "image/png": "[encoded data removed]",
      "text/plain": [
       "<Figure size 640x480 with 1 Axes>"
      ]
     },
     "metadata": {},
     "output_type": "display_data"
    }
   ],
   "source": [
    "# G2.- Tiempo de espera promedio en llamadas entrantes contestadas \n",
    "y_raw = op_flags[\"avg_wait_in_ans\"].dropna()\n",
    "\n",
    "# Recortar al Percentil 99 para mejor lectura de la gráfica.\n",
    "upper = np.nanpercentile(y_raw, 99) if len(y_raw) else np.nan\n",
    "y = y_raw.clip(upper=upper) if np.isfinite(upper) else y_raw\n",
    "\n",
    "plt.figure()\n",
    "plt.hist(y, bins=30)\n",
    "plt.title(\"Tiempo de espera promedio en llamadas entrantes contestadas\")\n",
    "plt.xlabel(\"(segundos)\")\n",
    "plt.ylabel(\"Cantidad de operadores\")\n",
    "plt.show()"
   ]
  },
  {
   "cell_type": "code",
   "execution_count": 109,
   "id": "d19eaf28",
   "metadata": {},
   "outputs": [
    {
     "data": {
      "image/png": "[encoded data removed]",
      "text/plain": [
       "<Figure size 800x600 with 1 Axes>"
      ]
     },
     "metadata": {},
     "output_type": "display_data"
    }
   ],
   "source": [
    "# G3.- Top 15 operadores por tasa de pérdidas post-asignación\n",
    "\n",
    "base = op_flags[op_flags[\"enough_volume\"]].copy()\n",
    "top = base.sort_values(\"missed_rate_post\", ascending=False).head(15).copy()\n",
    "top[\"op_label\"] = top[\"operator_id\"].astype(\"Int64\").astype(str)\n",
    "\n",
    "p80 = np.nanpercentile(base[\"missed_rate_post\"].dropna(), 80) # Umbral de referencia (P80 global)\n",
    "colors = [\"C1\" if i < 3 else \"C0\" for i in range(len(top))] # Resaltar top 3\n",
    "\n",
    "fig, ax = plt.subplots(figsize=(8, 6))\n",
    "bars = ax.barh(top[\"op_label\"], top[\"missed_rate_post\"], color=colors)\n",
    "\n",
    "ax.invert_yaxis()\n",
    "ax.xaxis.set_major_formatter(PercentFormatter(xmax=1.0))\n",
    "\n",
    "# Línea de referencia P80\n",
    "ax.axvline(p80, linestyle=\"--\")\n",
    "ax.text(p80, -0.6, f\"P80 global: {p80:.1%}\", ha=\"center\", va=\"bottom\")\n",
    "\n",
    "# Etiquetas al final de cada barra (porcentaje + volumen n)\n",
    "for bar, rate, n_assigned in zip(bars, top[\"missed_rate_post\"], top[\"in_assigned_total\"]):\n",
    "    ax.annotate(f\"{rate:.1%}  (n={int(n_assigned)})\",\n",
    "                xy=(rate, bar.get_y() + bar.get_height()/2),\n",
    "                xytext=(5, 0), textcoords=\"offset points\",\n",
    "                va=\"center\", ha=\"left\")\n",
    "\n",
    "ax.xaxis.grid(True, linestyle=\":\", alpha=0.5)\n",
    "ax.margins(x=0.05)\n",
    "ax.set_title(\"Top 15 operadores por tasa de pérdidas post-asignación\")\n",
    "ax.set_xlabel(\"Tasa (post-asignación)\")\n",
    "ax.set_ylabel(\"ID del operador\")\n",
    "plt.tight_layout()\n",
    "plt.show()"
   ]
  },
  {
   "cell_type": "code",
   "execution_count": 110,
   "id": "a292d43b",
   "metadata": {},
   "outputs": [],
   "source": [
    "# H1.- ¿La espera en llamadas entrantes contestadas difiere entre internas vs externas?\n",
    "\n",
    "# Base: llamadas entrantes contestadas y asignadas\n",
    "mask_ans = (calls_win[\"is_inbound\"] & ~calls_win[\"is_missed_call\"] & calls_win[\"has_operator\"])\n",
    "\n",
    "df_wait = calls_win.loc[mask_ans, [\"internal\",\"wait_time\",\"calls_count\"]].copy()\n",
    "\n",
    "# Promedio de espera por llamada en cada fila agregada\n",
    "df_wait[\"mean_wait_per_call\"] = df_wait[\"wait_time\"] / df_wait[\"calls_count\"]\n",
    "a = df_wait.loc[df_wait[\"internal\"]==True,  \"mean_wait_per_call\"].dropna()\n",
    "b = df_wait.loc[df_wait[\"internal\"]==False, \"mean_wait_per_call\"].dropna()\n",
    "\n",
    "u_stat, p_val = st.mannwhitneyu(a, b, alternative=\"two-sided\")\n",
    "\n",
    "def cliffs_delta(x, y):\n",
    "    x = x.values if isinstance(x, pd.Series) else np.asarray(x)\n",
    "    y = y.values if isinstance(y, pd.Series) else np.asarray(y)\n",
    "    import itertools\n",
    "    gt = sum(ix > iy for ix, iy in itertools.product(x, y))\n",
    "    lt = sum(ix < iy for ix, iy in itertools.product(x, y))\n",
    "    n1, n2 = len(x), len(y)\n",
    "    return (gt - lt) / (n1 * n2)\n",
    "\n",
    "delta = cliffs_delta(a, b)"
   ]
  },
  {
   "cell_type": "markdown",
   "id": "b2e0c4cd",
   "metadata": {},
   "source": [
    "## 6. Hipótesis analizadas.\n",
    "#### H1 - ¿La espera en llamadas entrantes contestadas difiere entre internas vs externas?\n",
    "\n",
    "- Aplicamos la prueba U Mann-Whitney sobre la espera media por llamada en entrantes contestadas, comparando internas vs. externas. \n",
    "- El resultado fue p = 3.408e-06, por lo que **rechazamos H0**: existe una diferencia estadísticamente significativa entre ambos tipos de llamada. El tamaño del efecto Cliff’s fue −0.185, de magnitud pequeña; el signo negativo indica que las internas tienden a menor espera que las externas.\n",
    "- Implicación: La experiencia de clientes externos presenta esperas relativamente más altas; conviene revisar enrutamiento y priorización para llamadas externas.\n",
    "- **En pocas palabas: Existen diferencias en la espera; externas esperan más que las internas.**"
   ]
  },
  {
   "cell_type": "code",
   "execution_count": 111,
   "id": "5b20def8",
   "metadata": {},
   "outputs": [
    {
     "name": "stdout",
     "output_type": "stream",
     "text": [
      "Mann-Whitney U p=3.408e-06\n",
      "Cliff's delta=-0.185  (≈0.147 pequeño, ≈0.33 mediano, ≈0.474 grande)\n"
     ]
    }
   ],
   "source": [
    "print(f\"Mann-Whitney U p={p_val:.4g}\")\n",
    "print(f\"Cliff's delta={delta:.3f}  (≈0.147 pequeño, ≈0.33 mediano, ≈0.474 grande)\")\n",
    "\n",
    "# H2.- ¿El plan tarifario del cliente se relaciona con la tasa de llamadas perdidas post-asignación?\n",
    "\n",
    "# Une plan tarifario al nivel operador\n",
    "op_tp = op_flags.merge(clients[[\"user_id\",\"tariff_plan\"]], on=\"user_id\", how=\"left\")\n",
    "\n",
    "# Filtra operadores con volumen suficiente y tasa no nula\n",
    "gbase = op_tp[op_tp[\"enough_volume\"] & op_tp[\"missed_rate_post\"].notna()].copy()\n",
    "\n",
    "# Prepara grupos por plan\n",
    "groups = [g[\"missed_rate_post\"].values for _, g in gbase.groupby(\"tariff_plan\") if len(g)>5]\n",
    "\n",
    "H, p = st.kruskal(*groups)\n",
    "k = len(groups)\n",
    "n = sum(len(g) for g in groups)\n",
    "eps2 = (H - k + 1) / (n - k) if (n - k) > 0 else np.nan"
   ]
  },
  {
   "cell_type": "markdown",
   "id": "2fda0ed0",
   "metadata": {},
   "source": [
    "#### H2 - ¿El plan tarifario del cliente se relaciona con la tasa de llamadas perdidas post-asignación?:\n",
    "\n",
    "- Se evaluó si la tasa de pérdidas post-asignación difiere entre planes tarifarios. Con H = 1.376, p = 0.5026, **no rechazamos H0**: no hay evidencia de diferencias entre planes. El epsilon-cuadrado fue ≈ −0.003 (interpretado como ≈ 0), es decir, efecto nulo.\n",
    "- Implicación: la variación en la tasa de pérdidas post-asignación no se explica por el plan tarifario; habrá que enfocar acciones en factores operativos (enrutamiento, horarios, coaching a operadores) más que en la tarifa.\n",
    "- **En pocas palabras: Sin diferencias por plan tarifario en pérdidas post-asignación (efecto nulo).**"
   ]
  },
  {
   "cell_type": "code",
   "execution_count": 112,
   "id": "0eaf05d3",
   "metadata": {},
   "outputs": [
    {
     "name": "stdout",
     "output_type": "stream",
     "text": [
      "Kruskal-Wallis: H=1.376, p=0.5026, epsilon^2=-0.003\n"
     ]
    }
   ],
   "source": [
    "print(f\"Kruskal-Wallis: H={H:.3f}, p={p:.4g}, epsilon^2={eps2:.3f}\")\n",
    "\n",
    "# H3.- ¿Existe relación entre la tasa de perdidas post-asignación y el ambiente pre-asignación?\n",
    "\n",
    "inbound_daily = (calls_win[calls_win[\"is_inbound\"]]\n",
    "    .groupby([\"user_id\",\"date\"], as_index=False)\n",
    "    .agg(inbound_calls=(\"calls_count\",\"sum\")))\n",
    "\n",
    "queue_daily = (calls_win[calls_win[\"miss_stage\"]==\"pre\"]\n",
    "    .groupby([\"user_id\",\"date\"], as_index=False)\n",
    "    .agg(pre_missed_calls=(\"calls_count\",\"sum\"),\n",
    "         pre_wait_sum=(\"total_call_duration\",\"sum\")))\n",
    "\n",
    "queue_daily2 = inbound_daily.merge(queue_daily, on=[\"user_id\",\"date\"], how=\"left\")\n",
    "queue_daily2[\"pre_missed_calls\"] = queue_daily2[\"pre_missed_calls\"].fillna(0)\n",
    "\n",
    "queue_summary2 = queue_daily2.groupby(\"user_id\", as_index=False).agg(\n",
    "    inbound_calls=(\"inbound_calls\",\"sum\"),\n",
    "    pre_missed_calls=(\"pre_missed_calls\",\"sum\"),\n",
    "    pre_wait_sum=(\"pre_wait_sum\",\"sum\"))\n",
    "\n",
    "queue_summary2[\"pre_avg_wait_weighted\"] = np.where(\n",
    "    queue_summary2[\"pre_missed_calls\"]>0,\n",
    "    queue_summary2[\"pre_wait_sum\"]/queue_summary2[\"pre_missed_calls\"],\n",
    "    np.nan)\n",
    "\n",
    "queue_summary2[\"pre_abandon_rate\"] = np.where(\n",
    "    queue_summary2[\"inbound_calls\"]>0,\n",
    "    queue_summary2[\"pre_missed_calls\"]/queue_summary2[\"inbound_calls\"],\n",
    "    np.nan)\n",
    "\n",
    "client_post = (\n",
    "    op_flags[op_flags[\"missed_rate_post\"].notna()]\n",
    "    .groupby(\"user_id\", as_index=False)\n",
    "    .agg(client_missed_post_mean=(\"missed_rate_post\",\"mean\")))\n",
    "\n",
    "corr_df = queue_summary2.merge(client_post, on=\"user_id\", how=\"inner\")\n",
    "\n",
    "rho, p = st.spearmanr(corr_df[\"pre_abandon_rate\"], corr_df[\"client_missed_post_mean\"], nan_policy=\"omit\")"
   ]
  },
  {
   "cell_type": "markdown",
   "id": "c99d4b79",
   "metadata": {},
   "source": [
    "#### H3 - ¿Existe relación entre la tasa de perdidas post-asignación y el ambiente pre-asignación?\n",
    "\n",
    "Se realiza la correlación entre la tasa de abandono en espera y la tasa media de pérdidas post-asignación por cliente. \n",
    "- El valor El resultado fue rho = −0.169, p = 0.01013: existe una asociación negativa significativa, pero de magnitud pequeña.\n",
    "- Implicación: A nivel cliente, **un mayor abandono en cola no se asocia con mayores pérdidas post-asignación**; por lo que en términos prácticos, conviene tratar lista de espera y desempeño post-asignación como frentes operativos distintos, evitando extraer conclusiones causales sin un análisis adicional (p. ej., por franjas horarias, mezcla de tráfico, reglas de routing).\n",
    "- **Correlación negativa y pequeña entre abandono en espera y pérdidas post.**"
   ]
  },
  {
   "cell_type": "code",
   "execution_count": 113,
   "id": "0fd8c6da",
   "metadata": {},
   "outputs": [
    {
     "name": "stdout",
     "output_type": "stream",
     "text": [
      "Spearman rho=-0.169, p=0.01013\n"
     ]
    }
   ],
   "source": [
    "print(f\"Spearman rho={rho:.3f}, p={p:.4g}\")"
   ]
  },
  {
   "cell_type": "markdown",
   "id": "0ad00261",
   "metadata": {},
   "source": [
    "# 7. Recomendaciones.\n",
    "- Short-fix.- Coaching a marcados, ajustes de routing en picos.\n",
    "- Mid-fix.- Rebalanceo de turnos, QA scriptado.\n",
    "- Long-fix.- KPI y alertas en Tableau; playbook de supervisión."
   ]
  },
  {
   "cell_type": "markdown",
   "id": "d58227f3",
   "metadata": {},
   "source": [
    "# 8. Fuentes documentales.\n",
    "1. **SciPy – `scipy.stats.mannwhitneyu`**.- Prueba no paramétrica para comparar dos muestras independientes (diferencia de localización/rangos); la utilizamos para contrastar si la espera en llamadas entrantes (internas vs externas) difiere de forma significativa.\n",
    "\n",
    "2. **SciPy – `scipy.stats.kruskal`**.- Prueba no paramétrica utilizada para comparar **k** grupos con tamaños distintos; la utilizamos para ver si la tasa de pérdidas post-asignación cambia por plan tarifario.\n",
    "\n",
    "3. **SciPy – `scipy.stats.spearmanr`**.- Sirve para conocer la correlación de Spearman (ρ) para relaciones monótonas sin suponer normalidad;la utilizamos para conocer la relación entre tasa de abandono en espera (pre) y pérdidas post-asignación a nivel cliente.\n",
    "\n",
    "4. **NumPy – `numpy.nanpercentile`**.- Librería utilizada para calcular percentiles ignorando NaN; la utilizamos para definir umbrales por cliente (P80 para perdidas/en-espera, P20 para llamadas salientes) y generar métricas justas por contexto.\n",
    "\n",
    "5. **Cliff’s delta**.- Sirve para entender y reportar el tamaño de efecto no paramétrico para comparaciones de dos grupos; la utilizamos para cuantificar la magnitud práctica al investigar si la espera en llamadas entrantes contestadas difiere entre internas vs externas.\n",
    "\n",
    "6. **Epsilon squared**.- Se utiliza para calcular el epsilon cuadrado para Kruskal–Wallis como medida de tamaño de efecto; se utilizó para reportar la magnitud entre los grupos al investigar si el plan tarifario del cliente se asocia con la tasa de llamadas perdidas post-asignación.\n",
    "\n",
    "7. **Genesys – Definición de ASA (Average Speed of Answer)**.- Documentación operativa de contact centers; se utilizó para definir el tiempo de espera hasta que recibe respuesta (ASA) y distinguirla de otras esperas y separar correctamente la espera pre-asignación (cola/equipo) de la espera post-asignación (operador) en nuestras métricas.\n",
    "\n",
    "9. **Investopedia – Abandon Rate (definición y fórmula)**.- Definición de la tasa de abandono en call centers (abandoned / inbound) y su relación con tiempos de espera; se utilizó para fundamentar la métrica de abandono en espera usada como contexto de equipo (no para culpar a individuos)."
   ]
  }
 ],
 "metadata": {
  "kernelspec": {
   "display_name": "vehicles_env",
   "language": "python",
   "name": "python3"
  },
  "language_info": {
   "codemirror_mode": {
    "name": "ipython",
    "version": 3
   },
   "file_extension": ".py",
   "mimetype": "text/x-python",
   "name": "python",
   "nbconvert_exporter": "python",
   "pygments_lexer": "ipython3",
   "version": "3.13.3"
  }
 },
 "nbformat": 4,
 "nbformat_minor": 5
}
